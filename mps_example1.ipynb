{
 "cells": [
  {
   "cell_type": "markdown",
   "id": "18022284",
   "metadata": {},
   "source": [
    "# MPS Annotation Example I #"
   ]
  },
  {
   "cell_type": "code",
   "execution_count": null,
   "id": "eb715dcd",
   "metadata": {},
   "outputs": [],
   "source": [
    "import os\n",
    "import subprocess\n",
    "from dotenv import load_dotenv\n",
    "import yaml\n",
    "import pprint\n",
    "\n",
    "load_dotenv() # load .env\n",
    "\n",
    "# load OpenAI API key\n",
    "OPENAI_API_KEY = os.getenv(\"OPENAI_API_KEY\")"
   ]
  },
  {
   "cell_type": "code",
   "execution_count": 2,
   "id": "f66f84a0",
   "metadata": {},
   "outputs": [
    {
     "data": {
      "text/plain": [
       "0"
      ]
     },
     "execution_count": 2,
     "metadata": {},
     "output_type": "execute_result"
    }
   ],
   "source": [
    "os.system(\"pip install ontogpt\")"
   ]
  },
  {
   "cell_type": "code",
   "execution_count": 3,
   "id": "24d5ef69",
   "metadata": {},
   "outputs": [
    {
     "data": {
      "text/plain": [
       "0"
      ]
     },
     "execution_count": 3,
     "metadata": {},
     "output_type": "execute_result"
    }
   ],
   "source": [
    "os.system(f\"runoak set-apikey -e openai {OPENAI_API_KEY}\")"
   ]
  },
  {
   "cell_type": "code",
   "execution_count": 7,
   "id": "9258108b",
   "metadata": {},
   "outputs": [
    {
     "data": {
      "text/plain": [
       "CompletedProcess(args=['ontogpt', '--help'], returncode=0, stdout='Usage: ontogpt [OPTIONS] COMMAND [ARGS]...\\n\\n  CLI for ontogpt.\\n\\n  :param verbose: Verbosity while running. :param quiet: Boolean to be quiet\\n  or verbose.\\n\\nOptions:\\n  -v, --verbose\\n  -q, --quiet TEXT\\n  --cache-db TEXT   Path to sqlite database to cache prompt-completion results\\n  --version         Show the version and exit.\\n  --help            Show this message and exit.\\n\\nCommands:\\n  answer                        Answer a set of questions defined in YAML.\\n  categorize-mappings           Categorize a collection of SSSOM mappings.\\n  classify-by-topic             Classify input text by topic.\\n  clinical-notes                Create mock clinical notes.\\n  complete                      Prompt completion.\\n  convert                       Convert output format.\\n  convert-examples              Convert training examples from YAML.\\n  diagnose                      Diagnose a clinical case represented as...\\n  dump-completions              Dump cached completions.\\n  embed                         Embed text.\\n  entity-similarity             Identify similarity between two entities...\\n  eval                          Evaluate an extractor.\\n  extract                       Extract knowledge from text guided by...\\n  fill                          Fill in missing values, given examples.\\n  generate-extract              Generate text and then extract knowledge...\\n  halo                          Run HALO over inputs.\\n  iteratively-generate-extract  Iterate through generate-extract.\\n  list-models                   List all available models.\\n  list-templates                List the available extraction templates.\\n  parse                         Parse OpenAI results.\\n  pubmed-annotate               Retrieve a collection of PubMed IDs for a...\\n  reason                        Reason.\\n  recipe-extract                Extract from recipe on the web.\\n  run-multilingual-analysis     Call the multilingual analysis function.\\n  search-and-extract            Search for relevant literature through...\\n  suggest-templates             Provide a suggestion for an appropriate...\\n  synonyms                      Extract synonyms.\\n  text-distance                 Embed text and calculate euclidian...\\n  text-similarity               Get similarity between two text inputs.\\n  web-extract                   Extract knowledge from web page.\\n  wikipedia-extract             Extract knowledge from a Wikipedia page.\\n  wikipedia-search              Extract knowledge from a Wikipedia page.\\n', stderr='')"
      ]
     },
     "execution_count": 7,
     "metadata": {},
     "output_type": "execute_result"
    }
   ],
   "source": [
    "subprocess.run([\"ontogpt\", \"--help\"], capture_output=True, text=True)"
   ]
  },
  {
   "cell_type": "code",
   "execution_count": 10,
   "id": "cc25f229",
   "metadata": {},
   "outputs": [
    {
     "data": {
      "text/plain": [
       "CompletedProcess(args=['ontogpt', '-vvv extract -i example1.txt -t human_phenotype.yaml'], returncode=2, stdout='', stderr=\"Usage: ontogpt [OPTIONS] COMMAND [ARGS]...\\nTry 'ontogpt --help' for help.\\n\\nError: No such option: - \\n\")"
      ]
     },
     "execution_count": 10,
     "metadata": {},
     "output_type": "execute_result"
    }
   ],
   "source": [
    "subprocess.run([\"ontogpt\", \"-vvv extract -i example1.txt -t human_phenotype.yaml\"], capture_output=True, text=True)"
   ]
  },
  {
   "cell_type": "code",
   "execution_count": null,
   "id": "c6d8dc61",
   "metadata": {},
   "outputs": [],
   "source": [
    "!ontogpt -vvv extract -i example1.txt -t human_phenotype.yaml -o output.yaml --model-provider openai"
   ]
  },
  {
   "cell_type": "code",
   "execution_count": null,
   "id": "f7bbccdb",
   "metadata": {},
   "outputs": [],
   "source": []
  }
 ],
 "metadata": {
  "kernelspec": {
   "display_name": "Python 3",
   "language": "python",
   "name": "python3"
  },
  "language_info": {
   "codemirror_mode": {
    "name": "ipython",
    "version": 3
   },
   "file_extension": ".py",
   "mimetype": "text/x-python",
   "name": "python",
   "nbconvert_exporter": "python",
   "pygments_lexer": "ipython3",
   "version": "3.11.9"
  }
 },
 "nbformat": 4,
 "nbformat_minor": 5
}
