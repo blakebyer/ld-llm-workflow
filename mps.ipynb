{
 "cells": [
  {
   "cell_type": "markdown",
   "id": "18022284",
   "metadata": {},
   "source": [
    "# MPS Annotation Pipeline #"
   ]
  },
  {
   "cell_type": "code",
   "execution_count": null,
   "id": "eb715dcd",
   "metadata": {},
   "outputs": [],
   "source": [
    "import os\n",
    "import subprocess\n",
    "from dotenv import load_dotenv\n",
    "import yaml\n",
    "from pprintpp import pprint as pp\n",
    "import pipe\n",
    "\n",
    "load_dotenv() # load .env\n",
    "\n",
    "# load OpenAI API key\n",
    "OPENAI_API_KEY = os.getenv(\"OPENAI_API_KEY\")"
   ]
  },
  {
   "cell_type": "markdown",
   "id": "2b95d2db",
   "metadata": {},
   "source": [
    "OntoGPT examples: [here](https://github.com/monarch-initiative/ontogpt/blob/main/notebooks/)\n",
    "\n",
    "OntoGPT templates: [here](https://github.com/monarch-initiative/ontogpt/blob/main/src/ontogpt/templates/)\n",
    "\n",
    "CurateGPT examples: [here](https://github.com/monarch-initiative/curategpt/blob/main/notebooks/command-line/)"
   ]
  },
  {
   "cell_type": "code",
   "execution_count": null,
   "id": "42b7128f",
   "metadata": {},
   "outputs": [],
   "source": [
    "!pip install --upgrade pip\n",
    "!pip install onnxruntime\n",
    "!pip install pyyaml\n",
    "!pip install pprintpp\n",
    "!pip install pipe"
   ]
  },
  {
   "cell_type": "markdown",
   "id": "0968e1d0",
   "metadata": {},
   "source": [
    "### Install LLM Tools ###\n",
    "\n",
    "OntoGPT is based on Structured Prompt Interrogation and Recursive Extraction of Semantics (SPIRES), a novel method to extract ontological content from text or structured data authored by [Caufield et al., 2024](https://doi.org/10.1093/bioinformatics/btae104).\n",
    "\n",
    "CurateGPT is another library that uses LLM embeddings to prioritize semantically similar ontology content to text or structured data input. CurateGPT also enables users to suggest new ontology content and programmatically interact with GitHub issue trackers. Find the preprint for CurateGPT [here](https://doi.org/10.48550/arXiv.2411.00046)"
   ]
  },
  {
   "cell_type": "code",
   "execution_count": null,
   "id": "f66f84a0",
   "metadata": {},
   "outputs": [],
   "source": [
    "!pip install ontogpt\n",
    "!pip install curategpt"
   ]
  },
  {
   "cell_type": "markdown",
   "id": "25bbc65d",
   "metadata": {},
   "source": [
    "### Set OpenAI API Key ###"
   ]
  },
  {
   "cell_type": "code",
   "execution_count": null,
   "id": "24d5ef69",
   "metadata": {},
   "outputs": [],
   "source": [
    "!runoak set-apikey -e openai $OPENAI_API_KEY"
   ]
  },
  {
   "cell_type": "markdown",
   "id": "f33ec8fe",
   "metadata": {},
   "source": [
    "### Show OntoGPT and CurateGPT Options ###"
   ]
  },
  {
   "cell_type": "code",
   "execution_count": null,
   "id": "9258108b",
   "metadata": {},
   "outputs": [],
   "source": [
    "!ontogpt --help"
   ]
  },
  {
   "cell_type": "code",
   "execution_count": null,
   "id": "d26c38c0",
   "metadata": {},
   "outputs": [],
   "source": [
    "!curategpt --help"
   ]
  },
  {
   "cell_type": "code",
   "execution_count": null,
   "id": "c6d8dc61",
   "metadata": {},
   "outputs": [],
   "source": [
    "!ontogpt -vvv extract -i example1.txt -t templates/human_phenotype.yaml -o output.yaml --model-provider openai"
   ]
  },
  {
   "cell_type": "code",
   "execution_count": null,
   "id": "6fd2b8b4",
   "metadata": {},
   "outputs": [],
   "source": [
    "with open('output/output.yaml', 'r') as infile:\n",
    "    output1 = yaml.safe_load(infile)\n",
    "pp(output1)"
   ]
  },
  {
   "cell_type": "markdown",
   "id": "4be94670",
   "metadata": {},
   "source": [
    "### Index HPO For AUTO Prefix Terms ###"
   ]
  },
  {
   "cell_type": "code",
   "execution_count": null,
   "id": "8c5fab38",
   "metadata": {},
   "outputs": [],
   "source": [
    "!curategpt ontology index  -m openai: -c terms_hp sqlite:obo:hp"
   ]
  },
  {
   "cell_type": "code",
   "execution_count": null,
   "id": "d9e42c08",
   "metadata": {},
   "outputs": [],
   "source": [
    "with open(\"output/output.yaml\", \"r\") as f:\n",
    "    data = yaml.safe_load(f)\n",
    "\n",
    "# Extract AUTO terms and find semantically similar phenotypes\n",
    "raw_auto_terms = [item for item in data[\"extracted_object\"][\"phenotypes\"] if item.startswith(\"AUTO:\")]\n",
    "auto_terms = [item.replace(\"AUTO:\", \"\").replace(\"%20\", \" \") for item in raw_auto_terms]\n",
    "\n",
    "print(auto_terms)\n",
    "\n",
    "\n",
    "#!curategpt search -c terms_hp \"alginate transport\""
   ]
  },
  {
   "cell_type": "code",
   "execution_count": null,
   "id": "2d9a1f88",
   "metadata": {},
   "outputs": [],
   "source": [
    "!curategpt ask -c phenopackets_384 \"what genes are associated with renal phenotypes?\""
   ]
  },
  {
   "cell_type": "markdown",
   "id": "3f50ae6d",
   "metadata": {},
   "source": []
  }
 ],
 "metadata": {
  "kernelspec": {
   "display_name": "Python 3",
   "language": "python",
   "name": "python3"
  },
  "language_info": {
   "codemirror_mode": {
    "name": "ipython",
    "version": 3
   },
   "file_extension": ".py",
   "mimetype": "text/x-python",
   "name": "python",
   "nbconvert_exporter": "python",
   "pygments_lexer": "ipython3",
   "version": "3.13.3"
  }
 },
 "nbformat": 4,
 "nbformat_minor": 5
}
